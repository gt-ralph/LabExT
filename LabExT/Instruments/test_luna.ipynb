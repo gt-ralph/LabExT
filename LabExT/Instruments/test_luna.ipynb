{
 "cells": [
  {
   "cell_type": "code",
   "execution_count": 1,
   "metadata": {},
   "outputs": [],
   "source": [
    "import pandas as pd"
   ]
  },
  {
   "cell_type": "code",
   "execution_count": 2,
   "metadata": {},
   "outputs": [
    {
     "name": "stderr",
     "output_type": "stream",
     "text": [
      "C:\\Users\\Luna\\AppData\\Local\\Temp\\ipykernel_5316\\1579624730.py:34: FutureWarning: Series.__getitem__ treating keys as positions is deprecated. In a future version, integer keys will always be treated as labels (consistent with DataFrame behavior). To access a value by position, use `ser.iloc[pos]`\n",
      "  r = row[0].split()\n"
     ]
    },
    {
     "ename": "IndexError",
     "evalue": "list index out of range",
     "output_type": "error",
     "traceback": [
      "\u001b[1;31m---------------------------------------------------------------------------\u001b[0m",
      "\u001b[1;31mIndexError\u001b[0m                                Traceback (most recent call last)",
      "Cell \u001b[1;32mIn[2], line 36\u001b[0m\n\u001b[0;32m     34\u001b[0m r \u001b[38;5;241m=\u001b[39m row[\u001b[38;5;241m0\u001b[39m]\u001b[38;5;241m.\u001b[39msplit()\n\u001b[0;32m     35\u001b[0m \u001b[38;5;28;01mfor\u001b[39;00m i, x \u001b[38;5;129;01min\u001b[39;00m \u001b[38;5;28menumerate\u001b[39m(temp_data_dict):\n\u001b[1;32m---> 36\u001b[0m     temp_data_dict[x]\u001b[38;5;241m.\u001b[39mappend(\u001b[38;5;28mfloat\u001b[39m(\u001b[43mr\u001b[49m\u001b[43m[\u001b[49m\u001b[43mi\u001b[49m\u001b[43m]\u001b[49m))\n",
      "\u001b[1;31mIndexError\u001b[0m: list index out of range"
     ]
    }
   ],
   "source": [
    "filepath = \"C:\\\\Users\\\\Luna\\\\Documents\\\\test.txt\"\n",
    "\n",
    "temp_data_dict = {\n",
    "    'wavelength': [],\n",
    "    'freq': [],\n",
    "    'IL': [],\n",
    "    'gd': [],\n",
    "    'pdl': [],\n",
    "    'pmd': [],\n",
    "    'lpd': [],\n",
    "    'qpd': [],\n",
    "    'JM_A_amp': [],\n",
    "    'JM_B_amp': [],\n",
    "    'JM_C_amp': [],\n",
    "    'JM_D_amp': [],\n",
    "    'JM_A_phase': [],\n",
    "    'JM_B_phase': [],\n",
    "    'JM_C_phase': [],\n",
    "    'JM_D_phase': [],\n",
    "    'time': [],\n",
    "    'time_amp': [],\n",
    "    'time_wavelength': [],\n",
    "    'max_loss': [],\n",
    "    'min_loss': [],\n",
    "    'pmd_2': [],\n",
    "    'phase_rip_lin': [],\n",
    "    'phase_rip_quad': [],\n",
    "}\n",
    "\n",
    "df = pd.read_csv(filepath)\n",
    "\n",
    "for idx, row in df.iterrows():\n",
    "    if idx >= 9:\n",
    "        r = row[0].split()\n",
    "        for i, x in enumerate(temp_data_dict):\n",
    "            temp_data_dict[x].append(float(r[i]))"
   ]
  },
  {
   "cell_type": "code",
   "execution_count": 5,
   "metadata": {},
   "outputs": [
    {
     "data": {
      "text/html": [
       "<div>\n",
       "<style scoped>\n",
       "    .dataframe tbody tr th:only-of-type {\n",
       "        vertical-align: middle;\n",
       "    }\n",
       "\n",
       "    .dataframe tbody tr th {\n",
       "        vertical-align: top;\n",
       "    }\n",
       "\n",
       "    .dataframe thead th {\n",
       "        text-align: right;\n",
       "    }\n",
       "</style>\n",
       "<table border=\"1\" class=\"dataframe\">\n",
       "  <thead>\n",
       "    <tr style=\"text-align: right;\">\n",
       "      <th></th>\n",
       "      <th>Acquired on 6/13/2024 at 11:56:50</th>\n",
       "    </tr>\n",
       "  </thead>\n",
       "  <tbody>\n",
       "    <tr>\n",
       "      <th>0</th>\n",
       "      <td>Device Descriptor:  [none]</td>\n",
       "    </tr>\n",
       "    <tr>\n",
       "      <th>1</th>\n",
       "      <td>Number of Scan Averages:  1</td>\n",
       "    </tr>\n",
       "    <tr>\n",
       "      <th>2</th>\n",
       "      <td>Time Domain Window Resolution Bandwidth (pm): ...</td>\n",
       "    </tr>\n",
       "    <tr>\n",
       "      <th>3</th>\n",
       "      <td>Filter Resolution Bandwidth (pm):  40.001696</td>\n",
       "    </tr>\n",
       "    <tr>\n",
       "      <th>4</th>\n",
       "      <td>Convolved Resolution Bandwidth (pm):  40.033163</td>\n",
       "    </tr>\n",
       "    <tr>\n",
       "      <th>5</th>\n",
       "      <td>X Axis - Wavelength (nm)\\tX Axis - Frequency (...</td>\n",
       "    </tr>\n",
       "    <tr>\n",
       "      <th>6</th>\n",
       "      <td>1.54869020E+003\\t1.93578069E+005\\t-5.702048...</td>\n",
       "    </tr>\n",
       "    <tr>\n",
       "      <th>7</th>\n",
       "      <td>1.54869147E+003\\t1.93577909E+005\\t-5.697153...</td>\n",
       "    </tr>\n",
       "    <tr>\n",
       "      <th>8</th>\n",
       "      <td>1.54869275E+003\\t1.93577750E+005\\t-5.692812...</td>\n",
       "    </tr>\n",
       "    <tr>\n",
       "      <th>9</th>\n",
       "      <td>1.54869403E+003\\t1.93577590E+005\\t-5.689107...</td>\n",
       "    </tr>\n",
       "  </tbody>\n",
       "</table>\n",
       "</div>"
      ],
      "text/plain": [
       "                   Acquired on 6/13/2024 at 11:56:50\n",
       "0                         Device Descriptor:  [none]\n",
       "1                        Number of Scan Averages:  1\n",
       "2  Time Domain Window Resolution Bandwidth (pm): ...\n",
       "3       Filter Resolution Bandwidth (pm):  40.001696\n",
       "4    Convolved Resolution Bandwidth (pm):  40.033163\n",
       "5  X Axis - Wavelength (nm)\\tX Axis - Frequency (...\n",
       "6     1.54869020E+003\\t1.93578069E+005\\t-5.702048...\n",
       "7     1.54869147E+003\\t1.93577909E+005\\t-5.697153...\n",
       "8     1.54869275E+003\\t1.93577750E+005\\t-5.692812...\n",
       "9     1.54869403E+003\\t1.93577590E+005\\t-5.689107..."
      ]
     },
     "execution_count": 5,
     "metadata": {},
     "output_type": "execute_result"
    }
   ],
   "source": [
    "filepath = \"C:\\\\Users\\\\Luna\\\\Documents\\\\test.txt\"\n",
    "df = pd.read_csv(filepath)\n",
    "df.head(10)"
   ]
  },
  {
   "cell_type": "code",
   "execution_count": 34,
   "metadata": {},
   "outputs": [],
   "source": [
    "filepath = \"C:\\\\Users\\\\Luna\\\\Documents\\\\test.txt\"\n",
    "df = pd.read_csv(filepath)\n",
    "\n",
    "columns = df.iloc[5].values[0].split(\"\\t\")\n",
    "\n",
    "data_values = {c: [] for c in columns}\n",
    "for idx, row in df.iterrows():\n",
    "    if idx > 5:\n",
    "        r = row.values[0].split()\n",
    "        for i, x in enumerate(columns):\n",
    "            temp_data_dict[x].append(float(r[i]))"
   ]
  }
 ],
 "metadata": {
  "kernelspec": {
   "display_name": "lab",
   "language": "python",
   "name": "python3"
  },
  "language_info": {
   "codemirror_mode": {
    "name": "ipython",
    "version": 3
   },
   "file_extension": ".py",
   "mimetype": "text/x-python",
   "name": "python",
   "nbconvert_exporter": "python",
   "pygments_lexer": "ipython3",
   "version": "3.10.14"
  }
 },
 "nbformat": 4,
 "nbformat_minor": 2
}
