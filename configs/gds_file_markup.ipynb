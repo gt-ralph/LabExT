{
 "cells": [
  {
   "cell_type": "code",
   "execution_count": null,
   "metadata": {},
   "outputs": [],
   "source": [
    "import gdstk as gtk\n",
    "import gdsfactory as gf\n",
    "import numpy as np\n",
    "from pprint import pprint\n",
    "import json"
   ]
  },
  {
   "cell_type": "code",
   "execution_count": null,
   "metadata": {},
   "outputs": [],
   "source": [
    "gf_lib = gtk.read_gds(\"4C04_VINSON_FILL_markup.gds\")"
   ]
  },
  {
   "cell_type": "code",
   "execution_count": null,
   "metadata": {},
   "outputs": [],
   "source": [
    "labels = gf_lib.top_level()[0].labels\n",
    "\n",
    "#find label with id #8600\n",
    "cal_device = [l for l in labels if l.text == \"8600\"][0]\n",
    "print(cal_device.origin)\n",
    "\n",
    "def str_to_dev(s) -> str:\n",
    "    loopback_list_c = [\"7100\", \"7700\", \"7708\", \"8100\", \"8600\"]\n",
    "    if s in loopback_list_c:\n",
    "        return \"lpbk_c\"\n",
    "    match s[0:2]:\n",
    "        case \"66\":\n",
    "            return \"stokes_opt\"\n",
    "        case \"71\":\n",
    "            return \"hybrid\"\n",
    "        case \"77\":\n",
    "            return \"hadamard\"\n",
    "        case \"78\":\n",
    "            return \"nitride_gc\"\n",
    "        case \"81\":\n",
    "            return \"hybrid\"\n",
    "        case \"82\":\n",
    "            return \"nitride_gc\"\n",
    "        case \"86\":\n",
    "            return \"hybrid\"\n",
    "        case _:\n",
    "            return \"ERROR\"\n",
    "\n",
    "chip = [\n",
    "    {\n",
    "        \"ID\": label.text,\n",
    "        \"Inputs\": [list(np.flip(np.round(np.subtract(label.origin, cal_device.origin),3)))],\n",
    "        \"Type\": str_to_dev(label.text)\n",
    "    }\n",
    "    for label in labels\n",
    "]\n",
    "\n",
    "pprint(chip)\n",
    "with open(\"4C04_VINSON_N.json\", 'w') as f:\n",
    "    json.dump(chip, f, indent=2)"
   ]
  }
 ],
 "metadata": {
  "language_info": {
   "name": "python"
  },
  "orig_nbformat": 4
 },
 "nbformat": 4,
 "nbformat_minor": 2
}
